{
  "nbformat": 4,
  "nbformat_minor": 0,
  "metadata": {
    "colab": {
      "provenance": [],
      "toc_visible": true
    },
    "kernelspec": {
      "name": "python3",
      "display_name": "Python 3"
    },
    "language_info": {
      "name": "python"
    }
  },
  "cells": [
    {
      "cell_type": "markdown",
      "source": [
        "# Построение модели классификации для датасета Iris с помощью PyTorch"
      ],
      "metadata": {
        "id": "hSQvGxBfsNWb"
      }
    },
    {
      "cell_type": "markdown",
      "source": [
        "##Описание датасета"
      ],
      "metadata": {
        "id": "kQfIF2Vol4BY"
      }
    },
    {
      "cell_type": "markdown",
      "source": [
        "Iris Dataset был собран британским биологом и статистиком Рональдом Фишером в 1936 году. Этот набор включает 150 образцов цветка ириса, принадлежащих к **трем** различным видам: Iris setosa Iris versicolor и Iris virginica Для каждого образца измерены **четыре** характеристики:\n",
        "\n",
        "Длина чашелистика (sepal length) в см.\\\n",
        "Ширина чашелистика (sepal width) в см.\\\n",
        "Длина лепестка (petal length) в см.\\\n",
        "Ширина лепестка (petal width) в см.\n",
        "\n",
        "Задача классификации — включает в себя три четко определенных класса, один из которых линейно отделим, а два других — нет.\\\n",
        "Данный датасет не содержит пропущенных значений, что упрощает начальный анализ"
      ],
      "metadata": {
        "id": "c8s_vCg9l6ZQ"
      }
    },
    {
      "cell_type": "markdown",
      "source": [
        "##Код\n"
      ],
      "metadata": {
        "id": "T7tsw_Yil-o_"
      }
    },
    {
      "cell_type": "code",
      "execution_count": null,
      "metadata": {
        "id": "JRL1Gk0_xArO"
      },
      "outputs": [],
      "source": [
        "import torch\n",
        "import torch.nn as nn\n",
        "import torch.optim as optim\n",
        "from torch.utils.data import TensorDataset, DataLoader  ##\n",
        "from torchvision import datasets\n",
        "from sklearn.datasets import load_iris\n",
        "from sklearn.model_selection import train_test_split\n",
        "from tqdm import tqdm\n",
        "import matplotlib.pyplot as plt ##\n",
        "import seaborn as sns  ##\n",
        "from sklearn.metrics import confusion_matrix, classification_report, ConfusionMatrixDisplay ##\n",
        "import numpy as np ##"
      ]
    },
    {
      "cell_type": "code",
      "source": [
        "iris = load_iris()\n",
        "X = iris.data  # Features\n",
        "y = iris.target  # Labels"
      ],
      "metadata": {
        "id": "cgU-4uVZx7fV"
      },
      "execution_count": null,
      "outputs": []
    },
    {
      "cell_type": "code",
      "source": [
        "X_train, X_test, y_train, y_test = train_test_split(X, y, test_size=0.2, random_state=42)\n",
        "\n",
        "# Convert to PyTorch tensors\n",
        "X_train = torch.FloatTensor(X_train)\n",
        "X_test = torch.FloatTensor(X_test)\n",
        "y_train = torch.LongTensor(y_train)\n",
        "y_test = torch.LongTensor(y_test)"
      ],
      "metadata": {
        "id": "g7Nst73W1974"
      },
      "execution_count": null,
      "outputs": []
    },
    {
      "cell_type": "code",
      "source": [
        "# Create DataLoader for batching\n",
        "train_data = TensorDataset(X_train, y_train)\n",
        "test_data = TensorDataset(X_test, y_test)\n",
        "train_loader = DataLoader(train_data, batch_size=16, shuffle=True)\n",
        "test_loader = DataLoader(test_data, batch_size=16)"
      ],
      "metadata": {
        "id": "NJ20oNQ3LNz1"
      },
      "execution_count": null,
      "outputs": []
    },
    {
      "cell_type": "code",
      "source": [
        "# Альтернативный способ определения архитектуры:\n",
        "model = nn.Sequential(\n",
        "    nn.Linear(4, 20),  # Входной слой (4 столбца входной таблицы)\n",
        "    nn.ReLU(),         # Функция активации ReLU\n",
        "    nn.Linear(20, 10), # Первый скрытый слой (20 нейронов) -> Второй скрытый слой (10 нейронов)\n",
        "    nn.ReLU(),         # Функция активации ReLU\n",
        "    nn.Linear(10, 3)   # Второй скрытый слой (10 нейронов) -> Выходной слой (3 класса)\n",
        ")"
      ],
      "metadata": {
        "id": "J89eXCWRr_Dz"
      },
      "execution_count": null,
      "outputs": []
    },
    {
      "cell_type": "code",
      "source": [
        "# Перемещаем модель на GPU, если он доступен\n",
        "device = torch.device(\"cuda\" if torch.cuda.is_available() else \"cpu\")\n",
        "model.to(device)"
      ],
      "metadata": {
        "colab": {
          "base_uri": "https://localhost:8080/"
        },
        "id": "cgfIkReX2djv",
        "outputId": "8749e280-8e51-40f1-8a33-01c8154f70a2"
      },
      "execution_count": null,
      "outputs": [
        {
          "output_type": "execute_result",
          "data": {
            "text/plain": [
              "Sequential(\n",
              "  (0): Linear(in_features=4, out_features=20, bias=True)\n",
              "  (1): ReLU()\n",
              "  (2): Linear(in_features=20, out_features=10, bias=True)\n",
              "  (3): ReLU()\n",
              "  (4): Linear(in_features=10, out_features=3, bias=True)\n",
              ")"
            ]
          },
          "metadata": {},
          "execution_count": 39
        }
      ]
    },
    {
      "cell_type": "code",
      "source": [
        "# Определяем алгоритм оптимизации и функцию потерь\n",
        "optimizer = optim.AdamW(model.parameters(), lr=0.006)\n",
        "criterion = nn.CrossEntropyLoss()"
      ],
      "metadata": {
        "id": "5E2n8J4J2ffH"
      },
      "execution_count": null,
      "outputs": []
    },
    {
      "cell_type": "code",
      "source": [
        "# Функция для проведения одной эпохи обучения\n",
        "def train_one_epoch(model, epoch, train_data_loader, test_data_loader, optimizer, criterion, device):\n",
        "    model.train()   # переводим модель в режим обучения, включая dropout и batchnorm слои\n",
        "    total_loss, correct, test_total_loss, test_correct = 0, 0, 0, 0\n",
        "    progress_bar = tqdm(train_data_loader, desc=f\"Epoch {epoch}\", leave=False)\n",
        "    for images, labels in progress_bar:  # перебор обучающей выборки на одной эпохе\n",
        "        images, labels = images.to(device), labels.to(device)\n",
        "\n",
        "        optimizer.zero_grad()   # обнуление градиентов, которые остались с предыдущего шага\n",
        "        outputs = model(images) # пропускаем данные батча через модель\n",
        "        loss = criterion(outputs, labels)   # вычисляем функцию потерь\n",
        "        loss.backward() # обратное распространение ошибки\n",
        "        optimizer.step()    # делаем шаг оптимизатора\n",
        "\n",
        "        total_loss += loss.item()\n",
        "        correct += (outputs.argmax(1) == labels).sum().item()\n",
        "\n",
        "        progress_bar.set_postfix_str(f\"Loss: {total_loss / len(train_data_loader):.4f}, Accuracy: {correct / len(train_data_loader.dataset):.4f}\")\n",
        "\n",
        "    # Подсчет метрик и функции потерь на тестовой выборке после окончания эпохи\n",
        "    model.eval() # переводим модель в режим инференса\n",
        "    with torch.no_grad():\n",
        "        for images, labels in test_data_loader:\n",
        "            images, labels = images.to(device), labels.to(device)\n",
        "\n",
        "            outputs = model(images)\n",
        "            loss = criterion(outputs, labels)\n",
        "\n",
        "            test_total_loss += loss.item()\n",
        "            test_correct += (outputs.argmax(1) == labels).sum().item()\n",
        "\n",
        "    train_loss = total_loss / len(train_data_loader)\n",
        "    train_accuracy = correct / len(train_data_loader.dataset)\n",
        "    test_loss = test_total_loss / len(test_data_loader)\n",
        "    test_accuracy = test_correct / len(test_data_loader.dataset)\n",
        "    return train_loss, train_accuracy, test_loss, test_accuracy\n",
        "\n"
      ],
      "metadata": {
        "id": "6rYaF09tyUo9"
      },
      "execution_count": null,
      "outputs": []
    },
    {
      "cell_type": "code",
      "source": [
        "epochs = 30\n",
        "history = {\"loss\": [], \"val_loss\": [], \"accuracy\": [], \"val_accuracy\": []}\n",
        "\n",
        "for epoch in range(epochs):\n",
        "    train_loss, accuracy, val_loss, val_accuracy = train_one_epoch(model, epoch, train_loader, test_loader, optimizer, criterion, device)\n",
        "    history[\"loss\"].append(train_loss)\n",
        "    history[\"val_loss\"].append(val_loss)\n",
        "    history[\"accuracy\"].append(accuracy)\n",
        "    history[\"val_accuracy\"].append(val_accuracy)\n",
        "    print(f\"\\nEpoch {epoch+1}/{epochs}, Loss: {train_loss:.4f}, Accuracy: {accuracy:.4f}, Test Loss: {val_loss:.4f}, Test Accuracy: {val_accuracy:.4f}\")"
      ],
      "metadata": {
        "colab": {
          "base_uri": "https://localhost:8080/"
        },
        "id": "iKcvD1AAQax2",
        "outputId": "4c500b48-1ee8-4058-e081-63c8c05111f3"
      },
      "execution_count": null,
      "outputs": [
        {
          "output_type": "stream",
          "name": "stderr",
          "text": []
        },
        {
          "output_type": "stream",
          "name": "stdout",
          "text": [
            "\n",
            "Epoch 1/30, Loss: 1.0980, Accuracy: 0.3250, Test Loss: 1.0386, Test Accuracy: 0.3667\n"
          ]
        },
        {
          "output_type": "stream",
          "name": "stderr",
          "text": []
        },
        {
          "output_type": "stream",
          "name": "stdout",
          "text": [
            "\n",
            "Epoch 2/30, Loss: 1.0459, Accuracy: 0.3250, Test Loss: 0.9699, Test Accuracy: 0.3667\n"
          ]
        },
        {
          "output_type": "stream",
          "name": "stderr",
          "text": []
        },
        {
          "output_type": "stream",
          "name": "stdout",
          "text": [
            "\n",
            "Epoch 3/30, Loss: 0.9501, Accuracy: 0.5917, Test Loss: 0.8816, Test Accuracy: 0.7000\n"
          ]
        },
        {
          "output_type": "stream",
          "name": "stderr",
          "text": []
        },
        {
          "output_type": "stream",
          "name": "stdout",
          "text": [
            "\n",
            "Epoch 4/30, Loss: 0.8378, Accuracy: 0.6583, Test Loss: 0.7506, Test Accuracy: 0.7000\n"
          ]
        },
        {
          "output_type": "stream",
          "name": "stderr",
          "text": []
        },
        {
          "output_type": "stream",
          "name": "stdout",
          "text": [
            "\n",
            "Epoch 5/30, Loss: 0.7236, Accuracy: 0.6583, Test Loss: 0.6118, Test Accuracy: 0.7000\n"
          ]
        },
        {
          "output_type": "stream",
          "name": "stderr",
          "text": []
        },
        {
          "output_type": "stream",
          "name": "stdout",
          "text": [
            "\n",
            "Epoch 6/30, Loss: 0.5857, Accuracy: 0.7083, Test Loss: 0.5058, Test Accuracy: 0.7667\n"
          ]
        },
        {
          "output_type": "stream",
          "name": "stderr",
          "text": []
        },
        {
          "output_type": "stream",
          "name": "stdout",
          "text": [
            "\n",
            "Epoch 7/30, Loss: 0.4785, Accuracy: 0.7583, Test Loss: 0.4311, Test Accuracy: 0.8000\n"
          ]
        },
        {
          "output_type": "stream",
          "name": "stderr",
          "text": []
        },
        {
          "output_type": "stream",
          "name": "stdout",
          "text": [
            "\n",
            "Epoch 8/30, Loss: 0.4266, Accuracy: 0.9333, Test Loss: 0.3817, Test Accuracy: 0.9667\n"
          ]
        },
        {
          "output_type": "stream",
          "name": "stderr",
          "text": []
        },
        {
          "output_type": "stream",
          "name": "stdout",
          "text": [
            "\n",
            "Epoch 9/30, Loss: 0.3650, Accuracy: 0.9750, Test Loss: 0.3459, Test Accuracy: 0.8333\n"
          ]
        },
        {
          "output_type": "stream",
          "name": "stderr",
          "text": []
        },
        {
          "output_type": "stream",
          "name": "stdout",
          "text": [
            "\n",
            "Epoch 10/30, Loss: 0.3350, Accuracy: 0.9000, Test Loss: 0.3094, Test Accuracy: 0.9000\n"
          ]
        },
        {
          "output_type": "stream",
          "name": "stderr",
          "text": []
        },
        {
          "output_type": "stream",
          "name": "stdout",
          "text": [
            "\n",
            "Epoch 11/30, Loss: 0.2993, Accuracy: 0.9083, Test Loss: 0.2915, Test Accuracy: 0.8667\n"
          ]
        },
        {
          "output_type": "stream",
          "name": "stderr",
          "text": []
        },
        {
          "output_type": "stream",
          "name": "stdout",
          "text": [
            "\n",
            "Epoch 12/30, Loss: 0.2798, Accuracy: 0.9667, Test Loss: 0.2397, Test Accuracy: 0.9667\n"
          ]
        },
        {
          "output_type": "stream",
          "name": "stderr",
          "text": []
        },
        {
          "output_type": "stream",
          "name": "stdout",
          "text": [
            "\n",
            "Epoch 13/30, Loss: 0.2569, Accuracy: 0.9333, Test Loss: 0.2273, Test Accuracy: 0.9667\n"
          ]
        },
        {
          "output_type": "stream",
          "name": "stderr",
          "text": []
        },
        {
          "output_type": "stream",
          "name": "stdout",
          "text": [
            "\n",
            "Epoch 14/30, Loss: 0.2218, Accuracy: 0.9500, Test Loss: 0.2029, Test Accuracy: 0.9667\n"
          ]
        },
        {
          "output_type": "stream",
          "name": "stderr",
          "text": []
        },
        {
          "output_type": "stream",
          "name": "stdout",
          "text": [
            "\n",
            "Epoch 15/30, Loss: 0.1955, Accuracy: 0.9667, Test Loss: 0.1974, Test Accuracy: 0.9000\n"
          ]
        },
        {
          "output_type": "stream",
          "name": "stderr",
          "text": []
        },
        {
          "output_type": "stream",
          "name": "stdout",
          "text": [
            "\n",
            "Epoch 16/30, Loss: 0.1707, Accuracy: 0.9583, Test Loss: 0.1827, Test Accuracy: 0.9667\n"
          ]
        },
        {
          "output_type": "stream",
          "name": "stderr",
          "text": []
        },
        {
          "output_type": "stream",
          "name": "stdout",
          "text": [
            "\n",
            "Epoch 17/30, Loss: 0.1679, Accuracy: 0.9667, Test Loss: 0.1983, Test Accuracy: 0.8667\n"
          ]
        },
        {
          "output_type": "stream",
          "name": "stderr",
          "text": []
        },
        {
          "output_type": "stream",
          "name": "stdout",
          "text": [
            "\n",
            "Epoch 18/30, Loss: 0.1549, Accuracy: 0.9667, Test Loss: 0.1532, Test Accuracy: 0.9667\n"
          ]
        },
        {
          "output_type": "stream",
          "name": "stderr",
          "text": []
        },
        {
          "output_type": "stream",
          "name": "stdout",
          "text": [
            "\n",
            "Epoch 19/30, Loss: 0.1346, Accuracy: 0.9667, Test Loss: 0.1442, Test Accuracy: 0.9667\n"
          ]
        },
        {
          "output_type": "stream",
          "name": "stderr",
          "text": []
        },
        {
          "output_type": "stream",
          "name": "stdout",
          "text": [
            "\n",
            "Epoch 20/30, Loss: 0.1319, Accuracy: 0.9750, Test Loss: 0.1548, Test Accuracy: 0.9333\n"
          ]
        },
        {
          "output_type": "stream",
          "name": "stderr",
          "text": []
        },
        {
          "output_type": "stream",
          "name": "stdout",
          "text": [
            "\n",
            "Epoch 21/30, Loss: 0.1478, Accuracy: 0.9333, Test Loss: 0.1530, Test Accuracy: 0.9667\n"
          ]
        },
        {
          "output_type": "stream",
          "name": "stderr",
          "text": []
        },
        {
          "output_type": "stream",
          "name": "stdout",
          "text": [
            "\n",
            "Epoch 22/30, Loss: 0.1257, Accuracy: 0.9750, Test Loss: 0.1652, Test Accuracy: 0.9000\n"
          ]
        },
        {
          "output_type": "stream",
          "name": "stderr",
          "text": []
        },
        {
          "output_type": "stream",
          "name": "stdout",
          "text": [
            "\n",
            "Epoch 23/30, Loss: 0.1164, Accuracy: 0.9750, Test Loss: 0.1262, Test Accuracy: 0.9667\n"
          ]
        },
        {
          "output_type": "stream",
          "name": "stderr",
          "text": []
        },
        {
          "output_type": "stream",
          "name": "stdout",
          "text": [
            "\n",
            "Epoch 24/30, Loss: 0.1164, Accuracy: 0.9750, Test Loss: 0.1679, Test Accuracy: 0.9000\n"
          ]
        },
        {
          "output_type": "stream",
          "name": "stderr",
          "text": []
        },
        {
          "output_type": "stream",
          "name": "stdout",
          "text": [
            "\n",
            "Epoch 25/30, Loss: 0.1088, Accuracy: 0.9833, Test Loss: 0.1126, Test Accuracy: 0.9667\n"
          ]
        },
        {
          "output_type": "stream",
          "name": "stderr",
          "text": []
        },
        {
          "output_type": "stream",
          "name": "stdout",
          "text": [
            "\n",
            "Epoch 26/30, Loss: 0.0909, Accuracy: 0.9833, Test Loss: 0.1277, Test Accuracy: 0.9333\n"
          ]
        },
        {
          "output_type": "stream",
          "name": "stderr",
          "text": []
        },
        {
          "output_type": "stream",
          "name": "stdout",
          "text": [
            "\n",
            "Epoch 27/30, Loss: 0.0879, Accuracy: 0.9833, Test Loss: 0.1149, Test Accuracy: 0.9667\n"
          ]
        },
        {
          "output_type": "stream",
          "name": "stderr",
          "text": []
        },
        {
          "output_type": "stream",
          "name": "stdout",
          "text": [
            "\n",
            "Epoch 28/30, Loss: 0.0996, Accuracy: 0.9750, Test Loss: 0.1034, Test Accuracy: 0.9667\n"
          ]
        },
        {
          "output_type": "stream",
          "name": "stderr",
          "text": []
        },
        {
          "output_type": "stream",
          "name": "stdout",
          "text": [
            "\n",
            "Epoch 29/30, Loss: 0.1123, Accuracy: 0.9667, Test Loss: 0.1095, Test Accuracy: 0.9667\n"
          ]
        },
        {
          "output_type": "stream",
          "name": "stderr",
          "text": []
        },
        {
          "output_type": "stream",
          "name": "stdout",
          "text": [
            "\n",
            "Epoch 30/30, Loss: 0.0853, Accuracy: 0.9750, Test Loss: 0.1013, Test Accuracy: 0.9667\n"
          ]
        }
      ]
    },
    {
      "cell_type": "markdown",
      "source": [
        "Визуализация динамики точности и функции потерь:"
      ],
      "metadata": {
        "id": "3z6ZSEkkrwK8"
      }
    },
    {
      "cell_type": "code",
      "source": [
        "fig, axs = plt.subplots(1, 2, figsize=(20, 6))\n",
        "\n",
        "axs[0].plot(history['loss'][2:], label='Train loss')\n",
        "axs[0].plot(history['val_loss'][2:], label='Validation loss')\n",
        "axs[0].grid(True)\n",
        "axs[0].legend(loc=1, prop={'size': 16})\n",
        "\n",
        "axs[1].plot(history['accuracy'][2:], label='Train accuracy')\n",
        "axs[1].plot(history['val_accuracy'][2:], label='Validation accuracy')\n",
        "axs[1].grid(True)\n",
        "axs[1].legend(loc=2, prop={'size': 16})\n",
        "\n",
        "plt.show()"
      ],
      "metadata": {
        "id": "dkdH4TljTvWd",
        "colab": {
          "base_uri": "https://localhost:8080/",
          "height": 416
        },
        "outputId": "8de6e771-fa9b-468a-f02a-5e65a5f9343c"
      },
      "execution_count": null,
      "outputs": [
        {
          "output_type": "display_data",
          "data": {
            "text/plain": [
              "<Figure size 2000x600 with 2 Axes>"
            ],
            "image/png": "[encoded data removed]"
          },
          "metadata": {}
        }
      ]
    },
    {
      "cell_type": "markdown",
      "source": [
        "Расчет метрики точности и построение матрицы ошибок:"
      ],
      "metadata": {
        "id": "891DAfGRr08U"
      }
    },
    {
      "cell_type": "code",
      "source": [
        "model.eval()\n",
        "y_true = []\n",
        "y_pred = []\n",
        "\n",
        "with torch.no_grad():\n",
        "    for inputs, labels in test_loader:\n",
        "        outputs = model(inputs)\n",
        "        _, predicted = torch.max(outputs, 1)\n",
        "        y_true.extend(labels.numpy())\n",
        "        y_pred.extend(predicted.numpy())\n",
        "\n",
        "y_true = np.array(y_true)\n",
        "y_pred = np.array(y_pred)\n",
        "\n",
        "accuracy = np.mean(y_true == y_pred) * 100\n",
        "print(f\" Test Accuracy: {accuracy:.2f}%\")\n",
        "\n",
        "# Confusion Matrix Visualization\n",
        "cm = confusion_matrix(y_test, y_pred)\n",
        "disp = ConfusionMatrixDisplay(confusion_matrix=cm, display_labels=iris.target_names)\n",
        "disp.plot(cmap=plt.cm.Blues)\n",
        "plt.title('Confusion Matrix for Iris Classification')\n",
        "plt.show()"
      ],
      "metadata": {
        "colab": {
          "base_uri": "https://localhost:8080/",
          "height": 490
        },
        "id": "SCHkK8vYTeQl",
        "outputId": "88d149aa-7a42-4932-b293-5de424ed3379"
      },
      "execution_count": null,
      "outputs": [
        {
          "output_type": "stream",
          "name": "stdout",
          "text": [
            " Test Accuracy: 96.67%\n"
          ]
        },
        {
          "output_type": "display_data",
          "data": {
            "text/plain": [
              "<Figure size 640x480 with 2 Axes>"
            ],
            "image/png": "[encoded data removed]"
          },
          "metadata": {}
        }
      ]
    },
    {
      "cell_type": "code",
      "source": [
        "from sklearn.metrics import accuracy_score, confusion_matrix, classification_report\n",
        "from sklearn.metrics import precision_score, recall_score, f1_score"
      ],
      "metadata": {
        "id": "85kCeeJWjokx"
      },
      "execution_count": null,
      "outputs": []
    },
    {
      "cell_type": "code",
      "source": [
        "precision = precision_score(y_true, y_pred, average='weighted') * 100  # weighted учитывает дисбаланс классов\n",
        "recall = recall_score(y_true, y_pred, average='weighted') * 100\n",
        "f1 = f1_score(y_true, y_pred, average='weighted') * 100\n",
        "\n",
        "print(f\"Precision: {precision:.4f}%\")\n",
        "print(f\"Recall:    {recall:.4f}%\")\n",
        "print(f\"F1-score:  {f1:.4f}%\")\n",
        "print()"
      ],
      "metadata": {
        "id": "tuXCI6WTr5VU",
        "colab": {
          "base_uri": "https://localhost:8080/"
        },
        "outputId": "59525052-ae6c-492b-b720-01dcb1aadf10"
      },
      "execution_count": null,
      "outputs": [
        {
          "output_type": "stream",
          "name": "stdout",
          "text": [
            "Precision: 96.9444%\n",
            "Recall:    96.6667%\n",
            "F1-score:  96.6411%\n",
            "\n"
          ]
        }
      ]
    }
  ]
}