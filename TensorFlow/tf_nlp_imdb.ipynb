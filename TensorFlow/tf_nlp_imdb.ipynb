{
  "nbformat": 4,
  "nbformat_minor": 0,
  "metadata": {
    "colab": {
      "provenance": [],
      "toc_visible": true
    },
    "kernelspec": {
      "name": "python3",
      "display_name": "Python 3"
    },
    "language_info": {
      "name": "python"
    }
  },
  "cells": [
    {
      "cell_type": "markdown",
      "source": [
        "##Описание датасета"
      ],
      "metadata": {
        "id": "6o4K2qZ3Ln8N"
      }
    },
    {
      "cell_type": "markdown",
      "source": [
        "25 тысяч отзывов фильмов с сайта IMDB с метками положительных и\n",
        "отрицательных отзывов. Каждый отзыв закодирован в виде списка из\n",
        "индексов слов. Сами слова проиндексированы по частоте встречания в\n",
        "отзывах."
      ],
      "metadata": {
        "id": "hi5EkG1VLsjj"
      }
    },
    {
      "cell_type": "markdown",
      "source": [
        "##Код"
      ],
      "metadata": {
        "id": "QD16JpKCLqdr"
      }
    },
    {
      "cell_type": "code",
      "execution_count": null,
      "metadata": {
        "id": "d6sA0gThg-6B",
        "colab": {
          "base_uri": "https://localhost:8080/"
        },
        "outputId": "cdb3f410-e341-4c88-c6c6-0ee4104e567f"
      },
      "outputs": [
        {
          "output_type": "stream",
          "name": "stdout",
          "text": [
            "Drive already mounted at /content/drive; to attempt to forcibly remount, call drive.mount(\"/content/drive\", force_remount=True).\n"
          ]
        }
      ],
      "source": [
        "from google.colab import drive\n",
        "drive.mount('/content/drive')"
      ]
    },
    {
      "cell_type": "code",
      "source": [
        "# 2. Устанавливаем unrar для работы с .rar архивами\n",
        "!apt-get install -y unrar"
      ],
      "metadata": {
        "colab": {
          "base_uri": "https://localhost:8080/"
        },
        "id": "YILGzB5UtCwQ",
        "outputId": "2504f190-12da-4fae-b136-a669bdfb7527"
      },
      "execution_count": null,
      "outputs": [
        {
          "output_type": "stream",
          "name": "stdout",
          "text": [
            "Reading package lists... Done\n",
            "Building dependency tree... Done\n",
            "Reading state information... Done\n",
            "unrar is already the newest version (1:6.1.5-1ubuntu0.1).\n",
            "0 upgraded, 0 newly installed, 0 to remove and 38 not upgraded.\n"
          ]
        }
      ]
    },
    {
      "cell_type": "code",
      "source": [
        "import os\n",
        "\n",
        "# Укажите путь к вашему архиву dataImdb.rar в Google Drive\n",
        "archive_path = '/content/drive/MyDrive/dataImdb.rar'  # измените если нужно\n",
        "\n",
        "# Проверим существует ли архив\n",
        "if os.path.exists(archive_path):\n",
        "    print(\"Архив найден!\")\n",
        "\n",
        "    # Создаем папку для распаковки\n",
        "    !mkdir -p /content/data\n",
        "\n",
        "    # Распаковываем архив\n",
        "    !unrar x \"{archive_path}\" /content/data/\n",
        "\n",
        "    print(\"Архив успешно распакован!\")\n",
        "else:\n",
        "    print(\"Архив не найден! Проверьте путь.\")\n",
        "\n",
        "    # Посмотрим что есть в корне Drive\n",
        "    print(\"Содержимое корня Drive:\")\n",
        "    print(os.listdir('/content/drive/MyDrive'))"
      ],
      "metadata": {
        "colab": {
          "base_uri": "https://localhost:8080/"
        },
        "id": "o6Gvbpc6tGP4",
        "outputId": "69f4a2cd-7d7d-4bc6-8bde-ab26712b7fb1"
      },
      "execution_count": null,
      "outputs": [
        {
          "output_type": "stream",
          "name": "stdout",
          "text": [
            "All OK\n",
            "Архив успешно распакован!\n"
          ]
        }
      ]
    },
    {
      "cell_type": "code",
      "source": [
        "# 4. Проверяем структуру распакованных данных\n",
        "data_dir = '/content/data/dataImdb'\n",
        "print(\"Содержимое папки /content/data/dataImdb:\")\n",
        "print(os.listdir(data_dir))\n",
        "\n",
        "train_dir = os.path.join(data_dir, 'train')\n",
        "test_dir = os.path.join(data_dir, 'test')\n",
        "\n",
        "print(f\"\\nTrain directory: {os.listdir(train_dir)}\")\n",
        "print(f\"Test directory: {os.listdir(test_dir)}\")\n",
        "\n",
        "# Посчитаем количество файлов\n",
        "def count_files(folder):\n",
        "    neg_path = os.path.join(folder, 'neg')\n",
        "    pos_path = os.path.join(folder, 'pos')\n",
        "\n",
        "    neg_count = len([f for f in os.listdir(neg_path) if f.endswith('.txt')])\n",
        "    pos_count = len([f for f in os.listdir(pos_path) if f.endswith('.txt')])\n",
        "\n",
        "    return neg_count, pos_count\n",
        "\n",
        "train_neg, train_pos = count_files(train_dir)\n",
        "test_neg, test_pos = count_files(test_dir)\n",
        "\n",
        "print(f\"\\nТренировочные данные: {train_neg} негативных, {train_pos} позитивных\")\n",
        "print(f\"Тестовые данные: {test_neg} негативных, {test_pos} позитивных\")"
      ],
      "metadata": {
        "colab": {
          "base_uri": "https://localhost:8080/"
        },
        "id": "A9O17Vx7tiLg",
        "outputId": "ae289330-0bf9-4333-f64d-a0f0de2045de"
      },
      "execution_count": null,
      "outputs": [
        {
          "output_type": "stream",
          "name": "stdout",
          "text": [
            "Содержимое папки /content/data/dataImdb:\n",
            "['train', '.DS_Store', 'test']\n",
            "\n",
            "Train directory: ['pos', 'neg', '.DS_Store', 'urls_neg.txt', 'urls_pos.txt']\n",
            "Test directory: ['pos', 'neg', '.DS_Store', 'urls_neg.txt', 'urls_pos.txt']\n",
            "\n",
            "Тренировочные данные: 12500 негативных, 12500 позитивных\n",
            "Тестовые данные: 12500 негативных, 12500 позитивных\n"
          ]
        }
      ]
    },
    {
      "cell_type": "code",
      "source": [
        "# 5. Загружаем и предобрабатываем данные\n",
        "import numpy as np\n",
        "from tensorflow.keras.preprocessing.text import Tokenizer\n",
        "from tensorflow.keras.preprocessing.sequence import pad_sequences\n",
        "\n",
        "def load_texts_labels(folder):\n",
        "    texts = []\n",
        "    labels = []\n",
        "    for label_type in ['neg', 'pos']:\n",
        "        dir_name = os.path.join(folder, label_type)\n",
        "        for fname in os.listdir(dir_name):\n",
        "            if fname.endswith('.txt'):\n",
        "                try:\n",
        "                    with open(os.path.join(dir_name, fname), 'r', encoding='utf-8') as f:\n",
        "                        texts.append(f.read())\n",
        "                    labels.append(1 if label_type == 'pos' else 0)\n",
        "                except:\n",
        "                    # Если UTF-8 не работает, пробуем другие кодировки\n",
        "                    try:\n",
        "                        with open(os.path.join(dir_name, fname), 'r', encoding='latin-1') as f:\n",
        "                            texts.append(f.read())\n",
        "                        labels.append(1 if label_type == 'pos' else 0)\n",
        "                    except Exception as e:\n",
        "                        print(f\"Ошибка чтения файла {fname}: {e}\")\n",
        "    return texts, labels\n",
        "\n",
        "print(\"Загружаем тренировочные данные...\")\n",
        "train_texts, train_labels = load_texts_labels(train_dir)\n",
        "print(\"Загружаем тестовые данные...\")\n",
        "test_texts, test_labels = load_texts_labels(test_dir)\n",
        "\n",
        "print(f\"Загружено {len(train_texts)} тренировочных отзывов\")\n",
        "print(f\"Загружено {len(test_texts)} тестовых отзывов\")\n",
        "\n",
        "# Токенизация и преобразование в последовательности\n",
        "max_words = 10000\n",
        "maxlen = 200\n",
        "\n",
        "tokenizer = Tokenizer(num_words=max_words)\n",
        "tokenizer.fit_on_texts(train_texts)\n",
        "\n",
        "X_train = tokenizer.texts_to_sequences(train_texts)\n",
        "X_test = tokenizer.texts_to_sequences(test_texts)\n",
        "\n",
        "X_train = pad_sequences(X_train, maxlen=maxlen)\n",
        "X_test = pad_sequences(X_test, maxlen=maxlen)\n",
        "\n",
        "y_train = np.asarray(train_labels)\n",
        "y_test = np.asarray(test_labels)\n",
        "\n",
        "print(f\"Размерность X_train: {X_train.shape}\")\n",
        "print(f\"Размерность X_test: {X_test.shape}\")"
      ],
      "metadata": {
        "colab": {
          "base_uri": "https://localhost:8080/"
        },
        "id": "IeDMllqRttHA",
        "outputId": "1e9897c7-8437-4c24-f91d-42039f5d50e3"
      },
      "execution_count": null,
      "outputs": [
        {
          "output_type": "stream",
          "name": "stdout",
          "text": [
            "Загружаем тренировочные данные...\n",
            "Загружаем тестовые данные...\n",
            "Загружено 25000 тренировочных отзывов\n",
            "Загружено 25000 тестовых отзывов\n",
            "Размерность X_train: (25000, 200)\n",
            "Размерность X_test: (25000, 200)\n"
          ]
        }
      ]
    },
    {
      "cell_type": "code",
      "source": [
        "# 6. Создаем модель согласно варианту 20\n",
        "from tensorflow.keras.models import Sequential\n",
        "from tensorflow.keras.layers import Dense, Embedding, Flatten\n",
        "\n",
        "model = Sequential()\n",
        "model.add(Embedding(max_words, 32, input_length=maxlen))\n",
        "model.add(Flatten())\n",
        "model.add(Dense(64, activation='tanh'))      # Первый скрытый слой\n",
        "model.add(Dense(16, activation='tanh'))      # Второй скрытый слой\n",
        "model.add(Dense(1, activation='sigmoid'))    # Выходной слой\n",
        "\n",
        "model.compile(\n",
        "    optimizer='adam',\n",
        "    loss='mean_absolute_error',  # Среднеабсолютная погрешность\n",
        "    metrics=['accuracy']\n",
        ")\n",
        "\n",
        "model.summary()"
      ],
      "metadata": {
        "colab": {
          "base_uri": "https://localhost:8080/",
          "height": 341
        },
        "id": "7cseE2pluM_h",
        "outputId": "dc2cfb45-d1f0-4480-ba4f-78651b132de8"
      },
      "execution_count": null,
      "outputs": [
        {
          "output_type": "stream",
          "name": "stderr",
          "text": [
            "/usr/local/lib/python3.12/dist-packages/keras/src/layers/core/embedding.py:97: UserWarning: Argument `input_length` is deprecated. Just remove it.\n",
            "  warnings.warn(\n"
          ]
        },
        {
          "output_type": "display_data",
          "data": {
            "text/plain": [
              "\u001b[1mModel: \"sequential\"\u001b[0m\n"
            ],
            "text/html": [
              "<pre style=\"white-space:pre;overflow-x:auto;line-height:normal;font-family:Menlo,'DejaVu Sans Mono',consolas,'Courier New',monospace\"><span style=\"font-weight: bold\">Model: \"sequential\"</span>\n",
              "</pre>\n"
            ]
          },
          "metadata": {}
        },
        {
          "output_type": "display_data",
          "data": {
            "text/plain": [
              "┏━━━━━━━━━━━━━━━━━━━━━━━━━━━━━━━━━┳━━━━━━━━━━━━━━━━━━━━━━━━┳━━━━━━━━━━━━━━━┓\n",
              "┃\u001b[1m \u001b[0m\u001b[1mLayer (type)                   \u001b[0m\u001b[1m \u001b[0m┃\u001b[1m \u001b[0m\u001b[1mOutput Shape          \u001b[0m\u001b[1m \u001b[0m┃\u001b[1m \u001b[0m\u001b[1m      Param #\u001b[0m\u001b[1m \u001b[0m┃\n",
              "┡━━━━━━━━━━━━━━━━━━━━━━━━━━━━━━━━━╇━━━━━━━━━━━━━━━━━━━━━━━━╇━━━━━━━━━━━━━━━┩\n",
              "│ embedding (\u001b[38;5;33mEmbedding\u001b[0m)           │ ?                      │   \u001b[38;5;34m0\u001b[0m (unbuilt) │\n",
              "├─────────────────────────────────┼────────────────────────┼───────────────┤\n",
              "│ flatten (\u001b[38;5;33mFlatten\u001b[0m)               │ ?                      │   \u001b[38;5;34m0\u001b[0m (unbuilt) │\n",
              "├─────────────────────────────────┼────────────────────────┼───────────────┤\n",
              "│ dense (\u001b[38;5;33mDense\u001b[0m)                   │ ?                      │   \u001b[38;5;34m0\u001b[0m (unbuilt) │\n",
              "├─────────────────────────────────┼────────────────────────┼───────────────┤\n",
              "│ dense_1 (\u001b[38;5;33mDense\u001b[0m)                 │ ?                      │   \u001b[38;5;34m0\u001b[0m (unbuilt) │\n",
              "├─────────────────────────────────┼────────────────────────┼───────────────┤\n",
              "│ dense_2 (\u001b[38;5;33mDense\u001b[0m)                 │ ?                      │   \u001b[38;5;34m0\u001b[0m (unbuilt) │\n",
              "└─────────────────────────────────┴────────────────────────┴───────────────┘\n"
            ],
            "text/html": [
              "<pre style=\"white-space:pre;overflow-x:auto;line-height:normal;font-family:Menlo,'DejaVu Sans Mono',consolas,'Courier New',monospace\">┏━━━━━━━━━━━━━━━━━━━━━━━━━━━━━━━━━┳━━━━━━━━━━━━━━━━━━━━━━━━┳━━━━━━━━━━━━━━━┓\n",
              "┃<span style=\"font-weight: bold\"> Layer (type)                    </span>┃<span style=\"font-weight: bold\"> Output Shape           </span>┃<span style=\"font-weight: bold\">       Param # </span>┃\n",
              "┡━━━━━━━━━━━━━━━━━━━━━━━━━━━━━━━━━╇━━━━━━━━━━━━━━━━━━━━━━━━╇━━━━━━━━━━━━━━━┩\n",
              "│ embedding (<span style=\"color: #0087ff; text-decoration-color: #0087ff\">Embedding</span>)           │ ?                      │   <span style=\"color: #00af00; text-decoration-color: #00af00\">0</span> (unbuilt) │\n",
              "├─────────────────────────────────┼────────────────────────┼───────────────┤\n",
              "│ flatten (<span style=\"color: #0087ff; text-decoration-color: #0087ff\">Flatten</span>)               │ ?                      │   <span style=\"color: #00af00; text-decoration-color: #00af00\">0</span> (unbuilt) │\n",
              "├─────────────────────────────────┼────────────────────────┼───────────────┤\n",
              "│ dense (<span style=\"color: #0087ff; text-decoration-color: #0087ff\">Dense</span>)                   │ ?                      │   <span style=\"color: #00af00; text-decoration-color: #00af00\">0</span> (unbuilt) │\n",
              "├─────────────────────────────────┼────────────────────────┼───────────────┤\n",
              "│ dense_1 (<span style=\"color: #0087ff; text-decoration-color: #0087ff\">Dense</span>)                 │ ?                      │   <span style=\"color: #00af00; text-decoration-color: #00af00\">0</span> (unbuilt) │\n",
              "├─────────────────────────────────┼────────────────────────┼───────────────┤\n",
              "│ dense_2 (<span style=\"color: #0087ff; text-decoration-color: #0087ff\">Dense</span>)                 │ ?                      │   <span style=\"color: #00af00; text-decoration-color: #00af00\">0</span> (unbuilt) │\n",
              "└─────────────────────────────────┴────────────────────────┴───────────────┘\n",
              "</pre>\n"
            ]
          },
          "metadata": {}
        },
        {
          "output_type": "display_data",
          "data": {
            "text/plain": [
              "\u001b[1m Total params: \u001b[0m\u001b[38;5;34m0\u001b[0m (0.00 B)\n"
            ],
            "text/html": [
              "<pre style=\"white-space:pre;overflow-x:auto;line-height:normal;font-family:Menlo,'DejaVu Sans Mono',consolas,'Courier New',monospace\"><span style=\"font-weight: bold\"> Total params: </span><span style=\"color: #00af00; text-decoration-color: #00af00\">0</span> (0.00 B)\n",
              "</pre>\n"
            ]
          },
          "metadata": {}
        },
        {
          "output_type": "display_data",
          "data": {
            "text/plain": [
              "\u001b[1m Trainable params: \u001b[0m\u001b[38;5;34m0\u001b[0m (0.00 B)\n"
            ],
            "text/html": [
              "<pre style=\"white-space:pre;overflow-x:auto;line-height:normal;font-family:Menlo,'DejaVu Sans Mono',consolas,'Courier New',monospace\"><span style=\"font-weight: bold\"> Trainable params: </span><span style=\"color: #00af00; text-decoration-color: #00af00\">0</span> (0.00 B)\n",
              "</pre>\n"
            ]
          },
          "metadata": {}
        },
        {
          "output_type": "display_data",
          "data": {
            "text/plain": [
              "\u001b[1m Non-trainable params: \u001b[0m\u001b[38;5;34m0\u001b[0m (0.00 B)\n"
            ],
            "text/html": [
              "<pre style=\"white-space:pre;overflow-x:auto;line-height:normal;font-family:Menlo,'DejaVu Sans Mono',consolas,'Courier New',monospace\"><span style=\"font-weight: bold\"> Non-trainable params: </span><span style=\"color: #00af00; text-decoration-color: #00af00\">0</span> (0.00 B)\n",
              "</pre>\n"
            ]
          },
          "metadata": {}
        }
      ]
    },
    {
      "cell_type": "code",
      "source": [
        "# 7. Обучаем модель\n",
        "history = model.fit(\n",
        "    X_train, y_train,\n",
        "    epochs=10,\n",
        "    batch_size=32,\n",
        "    validation_split=0.2,\n",
        "    verbose=1\n",
        ")"
      ],
      "metadata": {
        "colab": {
          "base_uri": "https://localhost:8080/"
        },
        "id": "GjxKZDpfuQUg",
        "outputId": "62bb5deb-c598-44ac-e92e-94511f158ab7"
      },
      "execution_count": null,
      "outputs": [
        {
          "output_type": "stream",
          "name": "stdout",
          "text": [
            "Epoch 1/10\n",
            "\u001b[1m625/625\u001b[0m \u001b[32m━━━━━━━━━━━━━━━━━━━━\u001b[0m\u001b[37m\u001b[0m \u001b[1m11s\u001b[0m 15ms/step - accuracy: 0.6269 - loss: 0.3801 - val_accuracy: 0.0000e+00 - val_loss: 0.9997\n",
            "Epoch 2/10\n",
            "\u001b[1m625/625\u001b[0m \u001b[32m━━━━━━━━━━━━━━━━━━━━\u001b[0m\u001b[37m\u001b[0m \u001b[1m8s\u001b[0m 13ms/step - accuracy: 0.6203 - loss: 0.3797 - val_accuracy: 0.0000e+00 - val_loss: 0.9998\n",
            "Epoch 3/10\n",
            "\u001b[1m625/625\u001b[0m \u001b[32m━━━━━━━━━━━━━━━━━━━━\u001b[0m\u001b[37m\u001b[0m \u001b[1m9s\u001b[0m 15ms/step - accuracy: 0.6333 - loss: 0.3669 - val_accuracy: 0.2416 - val_loss: 0.7582\n",
            "Epoch 4/10\n",
            "\u001b[1m625/625\u001b[0m \u001b[32m━━━━━━━━━━━━━━━━━━━━\u001b[0m\u001b[37m\u001b[0m \u001b[1m9s\u001b[0m 15ms/step - accuracy: 0.7149 - loss: 0.2850 - val_accuracy: 0.6924 - val_loss: 0.3079\n",
            "Epoch 5/10\n",
            "\u001b[1m625/625\u001b[0m \u001b[32m━━━━━━━━━━━━━━━━━━━━\u001b[0m\u001b[37m\u001b[0m \u001b[1m8s\u001b[0m 13ms/step - accuracy: 0.8237 - loss: 0.1766 - val_accuracy: 0.6490 - val_loss: 0.3509\n",
            "Epoch 6/10\n",
            "\u001b[1m625/625\u001b[0m \u001b[32m━━━━━━━━━━━━━━━━━━━━\u001b[0m\u001b[37m\u001b[0m \u001b[1m11s\u001b[0m 15ms/step - accuracy: 0.8432 - loss: 0.1574 - val_accuracy: 0.7308 - val_loss: 0.2691\n",
            "Epoch 7/10\n",
            "\u001b[1m625/625\u001b[0m \u001b[32m━━━━━━━━━━━━━━━━━━━━\u001b[0m\u001b[37m\u001b[0m \u001b[1m10s\u001b[0m 16ms/step - accuracy: 0.8558 - loss: 0.1442 - val_accuracy: 0.7174 - val_loss: 0.2828\n",
            "Epoch 8/10\n",
            "\u001b[1m625/625\u001b[0m \u001b[32m━━━━━━━━━━━━━━━━━━━━\u001b[0m\u001b[37m\u001b[0m \u001b[1m8s\u001b[0m 12ms/step - accuracy: 0.8706 - loss: 0.1293 - val_accuracy: 0.6554 - val_loss: 0.3453\n",
            "Epoch 9/10\n",
            "\u001b[1m625/625\u001b[0m \u001b[32m━━━━━━━━━━━━━━━━━━━━\u001b[0m\u001b[37m\u001b[0m \u001b[1m10s\u001b[0m 16ms/step - accuracy: 0.8705 - loss: 0.1293 - val_accuracy: 0.7400 - val_loss: 0.2610\n",
            "Epoch 10/10\n",
            "\u001b[1m625/625\u001b[0m \u001b[32m━━━━━━━━━━━━━━━━━━━━\u001b[0m\u001b[37m\u001b[0m \u001b[1m10s\u001b[0m 15ms/step - accuracy: 0.8803 - loss: 0.1197 - val_accuracy: 0.7702 - val_loss: 0.2298\n"
          ]
        }
      ]
    },
    {
      "cell_type": "code",
      "source": [
        "# 8. Визуализируем результаты\n",
        "import matplotlib.pyplot as plt\n",
        "\n",
        "plt.figure(figsize=(12, 4))\n",
        "\n",
        "plt.subplot(1, 2, 1)\n",
        "plt.plot(history.history['accuracy'], label='Точность на обучении')\n",
        "plt.plot(history.history['val_accuracy'], label='Точность на валидации')\n",
        "plt.title('График точности')\n",
        "plt.xlabel('Эпохи')\n",
        "plt.ylabel('Точность')\n",
        "plt.legend()\n",
        "\n",
        "plt.subplot(1, 2, 2)\n",
        "plt.plot(history.history['loss'], label='Потери на обучении')\n",
        "plt.plot(history.history['val_loss'], label='Потери на валидации')\n",
        "plt.title('График потерь')\n",
        "plt.xlabel('Эпохи')\n",
        "plt.ylabel('Потери')\n",
        "plt.legend()\n",
        "\n",
        "plt.tight_layout()\n",
        "plt.show()"
      ],
      "metadata": {
        "colab": {
          "base_uri": "https://localhost:8080/",
          "height": 407
        },
        "id": "9DUVdRMyuqXR",
        "outputId": "30a00f8d-1680-4e69-c532-4e3db4c40695"
      },
      "execution_count": null,
      "outputs": [
        {
          "output_type": "display_data",
          "data": {
            "text/plain": [
              "<Figure size 1200x400 with 2 Axes>"
            ],
            "image/png": "[encoded data removed]"
          },
          "metadata": {}
        }
      ]
    },
    {
      "cell_type": "code",
      "source": [
        "# 9. Оцениваем модель на тестовых данных\n",
        "test_loss, test_acc = model.evaluate(X_test, y_test)\n",
        "print(f'Точность на тестовых данных: {test_acc:.4f}')"
      ],
      "metadata": {
        "colab": {
          "base_uri": "https://localhost:8080/"
        },
        "id": "83CqmZhduvhH",
        "outputId": "c7bd95fc-7644-493e-c1e1-b9f8d600dc55"
      },
      "execution_count": null,
      "outputs": [
        {
          "output_type": "stream",
          "name": "stdout",
          "text": [
            "\u001b[1m782/782\u001b[0m \u001b[32m━━━━━━━━━━━━━━━━━━━━\u001b[0m\u001b[37m\u001b[0m \u001b[1m3s\u001b[0m 3ms/step - accuracy: 0.8515 - loss: 0.1481\n",
            "Точность на тестовых данных: 0.8167\n"
          ]
        }
      ]
    },
    {
      "cell_type": "code",
      "source": [
        "# 10. Сравниваем с базовой моделью\n",
        "base_model = Sequential()\n",
        "base_model.add(Embedding(max_words, 32, input_length=maxlen))\n",
        "base_model.add(Flatten())\n",
        "base_model.add(Dense(16, activation='relu'))\n",
        "base_model.add(Dense(16, activation='relu'))\n",
        "base_model.add(Dense(1, activation='sigmoid'))\n",
        "\n",
        "base_model.compile(\n",
        "    optimizer='adam',\n",
        "    loss='binary_crossentropy',\n",
        "    metrics=['accuracy']\n",
        ")\n",
        "\n",
        "base_history = base_model.fit(\n",
        "    X_train, y_train,\n",
        "    epochs=10,\n",
        "    batch_size=32,\n",
        "    validation_split=0.2,\n",
        "    verbose=1\n",
        ")\n",
        "\n",
        "base_test_loss, base_test_acc = base_model.evaluate(X_test, y_test, verbose=0)\n",
        "\n",
        "print(\"\\n\" + \"=\"*50)\n",
        "print(\"СРАВНЕНИЕ РЕЗУЛЬТАТОВ:\")\n",
        "print(\"=\"*50)\n",
        "print(f\"Ваша модель (2 слоя, 64-16, tanh-tanh, MAE): {test_acc:.4f}\")\n",
        "print(f\"Базовая модель (2 слоя, 16-16, relu-relu, BCE): {base_test_acc:.4f}\")"
      ],
      "metadata": {
        "colab": {
          "base_uri": "https://localhost:8080/"
        },
        "id": "Bcvbx27mu1CI",
        "outputId": "04ae03a8-c2d9-4fe4-a672-6733df049ca8"
      },
      "execution_count": null,
      "outputs": [
        {
          "output_type": "stream",
          "name": "stdout",
          "text": [
            "Epoch 1/10\n",
            "\u001b[1m625/625\u001b[0m \u001b[32m━━━━━━━━━━━━━━━━━━━━\u001b[0m\u001b[37m\u001b[0m \u001b[1m10s\u001b[0m 11ms/step - accuracy: 0.7021 - loss: 0.5465 - val_accuracy: 0.8318 - val_loss: 0.3954\n",
            "Epoch 2/10\n",
            "\u001b[1m625/625\u001b[0m \u001b[32m━━━━━━━━━━━━━━━━━━━━\u001b[0m\u001b[37m\u001b[0m \u001b[1m6s\u001b[0m 10ms/step - accuracy: 0.9443 - loss: 0.1524 - val_accuracy: 0.8148 - val_loss: 0.4631\n",
            "Epoch 3/10\n",
            "\u001b[1m625/625\u001b[0m \u001b[32m━━━━━━━━━━━━━━━━━━━━\u001b[0m\u001b[37m\u001b[0m \u001b[1m5s\u001b[0m 9ms/step - accuracy: 0.9940 - loss: 0.0256 - val_accuracy: 0.7764 - val_loss: 0.7572\n",
            "Epoch 4/10\n",
            "\u001b[1m625/625\u001b[0m \u001b[32m━━━━━━━━━━━━━━━━━━━━\u001b[0m\u001b[37m\u001b[0m \u001b[1m7s\u001b[0m 11ms/step - accuracy: 0.9995 - loss: 0.0044 - val_accuracy: 0.7834 - val_loss: 0.9995\n",
            "Epoch 5/10\n",
            "\u001b[1m625/625\u001b[0m \u001b[32m━━━━━━━━━━━━━━━━━━━━\u001b[0m\u001b[37m\u001b[0m \u001b[1m5s\u001b[0m 9ms/step - accuracy: 1.0000 - loss: 6.0222e-04 - val_accuracy: 0.6958 - val_loss: 1.5870\n",
            "Epoch 6/10\n",
            "\u001b[1m625/625\u001b[0m \u001b[32m━━━━━━━━━━━━━━━━━━━━\u001b[0m\u001b[37m\u001b[0m \u001b[1m7s\u001b[0m 12ms/step - accuracy: 1.0000 - loss: 5.6079e-04 - val_accuracy: 0.8036 - val_loss: 1.0093\n",
            "Epoch 7/10\n",
            "\u001b[1m625/625\u001b[0m \u001b[32m━━━━━━━━━━━━━━━━━━━━\u001b[0m\u001b[37m\u001b[0m \u001b[1m5s\u001b[0m 9ms/step - accuracy: 1.0000 - loss: 8.2352e-05 - val_accuracy: 0.7918 - val_loss: 1.1530\n",
            "Epoch 8/10\n",
            "\u001b[1m625/625\u001b[0m \u001b[32m━━━━━━━━━━━━━━━━━━━━\u001b[0m\u001b[37m\u001b[0m \u001b[1m6s\u001b[0m 10ms/step - accuracy: 1.0000 - loss: 3.8846e-05 - val_accuracy: 0.7904 - val_loss: 1.2017\n",
            "Epoch 9/10\n",
            "\u001b[1m625/625\u001b[0m \u001b[32m━━━━━━━━━━━━━━━━━━━━\u001b[0m\u001b[37m\u001b[0m \u001b[1m6s\u001b[0m 10ms/step - accuracy: 1.0000 - loss: 2.4997e-05 - val_accuracy: 0.7928 - val_loss: 1.2168\n",
            "Epoch 10/10\n",
            "\u001b[1m625/625\u001b[0m \u001b[32m━━━━━━━━━━━━━━━━━━━━\u001b[0m\u001b[37m\u001b[0m \u001b[1m6s\u001b[0m 9ms/step - accuracy: 1.0000 - loss: 1.7023e-05 - val_accuracy: 0.7894 - val_loss: 1.2759\n",
            "\n",
            "==================================================\n",
            "СРАВНЕНИЕ РЕЗУЛЬТАТОВ:\n",
            "==================================================\n",
            "Ваша модель (2 слоя, 64-16, tanh-tanh, MAE): 0.8167\n",
            "Базовая модель (2 слоя, 16-16, relu-relu, BCE): 0.8401\n"
          ]
        }
      ]
    },
    {
      "cell_type": "code",
      "source": [
        "# Выводим 55-й отрицательный отзыв из тренировочной выборки\n",
        "review_index = 55  # 55-й отзыв (индексация с 0)\n",
        "\n",
        "negative_review = train_texts[review_index]\n",
        "true_label = train_labels[review_index]  # Должно быть 0 для отрицательного отзыва\n",
        "\n",
        "print(f\"55-й отрицательный отзыв (первые 200 символов):\\n{negative_review[:200]}...\")\n",
        "print(f\"Истинная метка: {true_label}\")\n",
        "\n",
        "# Преобразуем этот отзыв в формат для модели\n",
        "review_sequence = tokenizer.texts_to_sequences([negative_review])  # Оборачиваем в список!\n",
        "review_padded = pad_sequences(review_sequence, maxlen=maxlen)\n",
        "\n",
        "# Делаем предсказание\n",
        "prediction = model.predict(review_padded)\n",
        "prediction_prob = prediction[0][0]  # Берем первое (и единственное) предсказание\n",
        "\n",
        "print(f\"\\n=== РЕЗУЛЬТАТ ПРЕДСКАЗАНИЯ ===\")\n",
        "print(f\"Выход нейронной сети: {prediction_prob:.4f}\")\n",
        "\n",
        "# Интерпретируем результат\n",
        "if prediction_prob > 0.5:\n",
        "    sentiment = \"ПОЛОЖИТЕЛЬНЫЙ\"\n",
        "else:\n",
        "    sentiment = \"ОТРИЦАТЕЛЬНЫЙ\"\n",
        "\n",
        "print(f\"Модель считает отзыв: {sentiment}\")\n",
        "\n",
        "# Проверяем, правильно ли модель угадала\n",
        "if (prediction_prob > 0.5 and true_label == 1) or (prediction_prob <= 0.5 and true_label == 0):\n",
        "    print(\"✅ Модель угадала правильно!\")\n",
        "else:\n",
        "    print(\"❌ Модель ошиблась!\")"
      ],
      "metadata": {
        "colab": {
          "base_uri": "https://localhost:8080/"
        },
        "id": "DbJHuN5jYG7K",
        "outputId": "2b1c6185-cb57-48fc-a1ab-00a0499ea83c"
      },
      "execution_count": null,
      "outputs": [
        {
          "output_type": "stream",
          "name": "stdout",
          "text": [
            "55-й отрицательный отзыв (первые 200 символов):\n",
            "It's nothing more than a weird coincidence that I decided to watch STARLIFT on the 59th anniversary of the day in June 1950 when President Truman's ordered US forces into the Korean War. STARLIFT, you...\n",
            "Истинная метка: 0\n",
            "\u001b[1m1/1\u001b[0m \u001b[32m━━━━━━━━━━━━━━━━━━━━\u001b[0m\u001b[37m\u001b[0m \u001b[1m0s\u001b[0m 51ms/step\n",
            "\n",
            "=== РЕЗУЛЬТАТ ПРЕДСКАЗАНИЯ ===\n",
            "Выход нейронной сети: 0.0000\n",
            "Модель считает отзыв: ОТРИЦАТЕЛЬНЫЙ\n",
            "✅ Модель угадала правильно!\n"
          ]
        }
      ]
    }
  ]
}
